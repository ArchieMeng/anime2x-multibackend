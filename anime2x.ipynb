{
 "cells": [
  {
   "cell_type": "markdown",
   "metadata": {
    "id": "OYFLDTZmep2z"
   },
   "source": [
    "# Setup Environments\n",
    "\n"
   ]
  },
  {
   "cell_type": "markdown",
   "metadata": {
    "id": "MZZtZPR6ydD-"
   },
   "source": [
    "## Setup Anime2x"
   ]
  },
  {
   "cell_type": "code",
   "execution_count": null,
   "metadata": {
    "colab": {
     "base_uri": "https://localhost:8080/"
    },
    "id": "41z0ZOs5d5d3",
    "outputId": "bc6beab3-63d1-413c-990c-254b09c88766"
   },
   "outputs": [],
   "source": [
    "!apt update && apt upgrade -y\n",
    "!apt remove locales\n",
    "!apt install libvulkan-dev ffmpeg -y"
   ]
  },
  {
   "cell_type": "code",
   "execution_count": null,
   "metadata": {
    "colab": {
     "base_uri": "https://localhost:8080/"
    },
    "id": "41z0ZOs5d5d3",
    "outputId": "bc6beab3-63d1-413c-990c-254b09c88766"
   },
   "outputs": [],
   "source": [
    "!git clone --recursive https://github.com/archiemeng/anime2x-multibackend\n",
    "!cd anime2x-multibackend && git checkout colab\n",
    "!pip install -r anime2x-multibackend/requirements.txt\n",
    "# if GPU supports for waifu2x-chainer is needed\n",
    "# !pip install cupy"
   ]
  },
  {
   "cell_type": "code",
   "execution_count": null,
   "metadata": {
    "colab": {
     "base_uri": "https://localhost:8080/"
    },
    "id": "41z0ZOs5d5d3",
    "outputId": "bc6beab3-63d1-413c-990c-254b09c88766"
   },
   "outputs": [],
   "source": [
    "!gdown --id ${GOOGLE_DRIVE_SHARE_FILE_ID} # replace ${GOOGLE_DRIVE_SHARE_FILE_ID} with the id of the google drive file you want to process (set it as \"shared with anyone\")\n",
    "# or upload to workspace via the file icon on the left panel"
   ]
  },
  {
   "cell_type": "markdown",
   "metadata": {
    "id": "4AZbD6_pdgSR"
   },
   "source": [
    "## setup *-ncnn-vulkan"
   ]
  },
  {
   "cell_type": "code",
   "execution_count": null,
    "metadata": {
    "colab": {
     "base_uri": "https://localhost:8080/"
    },
    "id": "41z0ZOs5d5d3",
    "outputId": "bc6beab3-63d1-413c-990c-254b09c88766"
   },
   "outputs": [],
   "source": [
    "# download *-ncnn-vulkan releases\n",
    "!wget https://github.com/ArchieMeng/waifu2x-ncnn-vulkan-python/releases/download/20210419/waifu2x-ncnn-vulkan-python-20210419-ubuntu.zip\n",
    "!wget https://github.com/ArchieMeng/srmd-ncnn-vulkan-python/releases/download/20210418/srmd-ncnn-vulkan-python-20210418-ubuntu.zip\n",
    "!wget https://github.com/ArchieMeng/realsr-ncnn-vulkan-python/releases/download/20210419/realsr-ncnn-vulkan-python-20210419-ubuntu.zip\n",
    "!wget https://github.com/ArchieMeng/rife-ncnn-vulkan-python/releases/download/20210424/rife-ncnn-vulkan-python-20210424-ubuntu.zip"
   ]
  },
  {
   "cell_type": "code",
   "execution_count": null,
   "metadata": {
    "colab": {
     "base_uri": "https://localhost:8080/"
    },
    "id": "41z0ZOs5d5d3",
    "outputId": "bc6beab3-63d1-413c-990c-254b09c88766"
   },
   "outputs": [],
   "source": [
    "!unzip waifu2x-ncnn-vulkan-python-20210419-ubuntu.zip\n",
    "!unzip srmd-ncnn-vulkan-python-20210418-ubuntu.zip\n",
    "!unzip realsr-ncnn-vulkan-python-20210419-ubuntu.zip\n",
    "!unzip rife-ncnn-vulkan-python-20210424-ubuntu.zip"
   ]
  },
  {
   "cell_type": "code",
   "execution_count": null,
   "metadata": {
    "colab": {
     "base_uri": "https://localhost:8080/"
    },
    "id": "41z0ZOs5d5d3",
    "outputId": "bc6beab3-63d1-413c-990c-254b09c88766"
   },
   "outputs": [],
   "source": [
    "!cp -r waifu2x-ncnn-vulkan-python-20210419-ubuntu/* anime2x-multibackend/utils/processors/waifu2x_ncnn_vulkan/\n",
    "!cp -r srmd-ncnn-vulkan-python-20210418-ubuntu/* anime2x-multibackend/utils/processors/srmd_ncnn_vulkan/\n",
    "!cp -r realsr-ncnn-vulkan-python-20210419-ubuntu/* anime2x-multibackend/utils/processors/realsr_ncnn_vulkan/\n",
    "!cp -r rife-ncnn-vulkan-python-20210424-ubuntu/* anime2x-multibackend/utils/processors/rife_ncnn_vulkan/"
   ]
  },
  {
   "cell_type": "code",
   "execution_count": null,
   "metadata": {
    "colab": {
     "base_uri": "https://localhost:8080/"
    },
    "id": "41z0ZOs5d5d3",
    "outputId": "bc6beab3-63d1-413c-990c-254b09c88766"
   },
   "outputs": [],
   "source": [
    "# resolve libc version issues. Ignore the errors below\n",
    "!wget http://archive.ubuntu.com/ubuntu/pool/main/g/glibc/libc6_2.32-0ubuntu3_amd64.deb -O ibc6_2.32-0ubuntu3_amd64.deb\n",
    "!dpkg -i ibc6_2.32-0ubuntu3_amd64.deb"
   ]
  },
  {
   "cell_type": "code",
   "execution_count": null,
   "metadata": {
    "colab": {
     "base_uri": "https://localhost:8080/"
    },
    "id": "41z0ZOs5d5d3",
    "outputId": "bc6beab3-63d1-413c-990c-254b09c88766"
   },
   "outputs": [],
   "source": [
    "# upscaling with 4 worker processes\n",
    "!python anime2x-multibackend/anime2x.py -i video.mkv --backend waifu2x-ncnn-vulkan -d 0 0 0 0"
   ]
  },
  {
   "cell_type": "code",
   "execution_count": null,
   "metadata": {
    "id": "vXxx7NBkLsCd",
    "pycharm": {
     "name": "#%%"
    }
   },
   "outputs": [],
   "source": [
    "# Or, video frames interpolation with rife-ncnn-vulkan with 4 worker processes\n",
    "!python anime2x-multibackend/anime2x.py -i video.mkv -s 1 -f 2 --backend rife-ncnn-vulkan -d 0 0 0 0"
   ]
  }
 ],
 "metadata": {
  "accelerator": "GPU",
  "colab": {
   "authorship_tag": "ABX9TyM+/JgFGJqZRZnpPYnARy2i",
   "collapsed_sections": [],
   "name": "anime2x.ipynb",
   "provenance": [],
   "toc_visible": true
  },
  "kernelspec": {
   "display_name": "Python 3",
   "language": "python",
   "name": "python3"
  },
  "language_info": {
   "codemirror_mode": {
    "name": "ipython",
    "version": 3
   },
   "file_extension": ".py",
   "mimetype": "text/x-python",
   "name": "python",
   "nbconvert_exporter": "python",
   "pygments_lexer": "ipython3",
   "version": "3.9.4"
  }
 },
 "nbformat": 4,
 "nbformat_minor": 1
}
