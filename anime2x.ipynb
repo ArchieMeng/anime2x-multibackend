{
  "cells": [
    {
      "cell_type": "markdown",
      "metadata": {
        "id": "OYFLDTZmep2z"
      },
      "source": [
        "# Setup Environments\n",
        "\n"
      ]
    },
    {
      "cell_type": "markdown",
      "metadata": {
        "id": "MZZtZPR6ydD-"
      },
      "source": [
        "## Setup Anime2x"
      ]
    },
    {
      "cell_type": "code",
      "source": [
        "!nvidia-smi"
      ],
      "metadata": {
        "id": "VEzsnQ2LXoqX"
      },
      "execution_count": null,
      "outputs": []
    },
    {
      "cell_type": "code",
      "execution_count": null,
      "metadata": {
        "id": "41z0ZOs5d5d3"
      },
      "outputs": [],
      "source": [
        "!apt update\n",
        "!apt install libvulkan-dev ffmpeg -y"
      ]
    },
    {
      "cell_type": "code",
      "execution_count": null,
      "metadata": {
        "id": "MgB_S6iZU3Jd"
      },
      "outputs": [],
      "source": [
        "!git clone -b colab --recursive https://github.com/archiemeng/anime2x-multibackend\n",
        "!pip install -r anime2x-multibackend/requirements.txt\n",
        "# if GPU supports for waifu2x-chainer is needed\n",
        "# run\n",
        "# !pip install cupy"
      ]
    },
    {
      "cell_type": "code",
      "execution_count": null,
      "metadata": {
        "id": "I8OVfd97U3Je"
      },
      "outputs": [],
      "source": [
        "# replace ${GOOGLE_DRIVE_SHARE_FILE_ID} with the id of the google drive file you want to process (set it as \"shared with anyone\")\n",
        "# !gdown --id ${GOOGLE_DRIVE_SHARE_FILE_ID}\n",
        "\n",
        "# or upload to workspace via the file icon on the left panel\n",
        "# or mount your google drive with the code below\n",
        "\n",
        "from google.colab import drive\n",
        "drive.mount('/content/drive')"
      ]
    },
    {
      "cell_type": "code",
      "source": [
        "!wget https://github.com/media2x/waifu2x-ncnn-vulkan-python/releases/download/1.0.2rc3/waifu2x-ncnn-vulkan-python-1.0.2rc3-ubuntu1804_3.7.zip\n",
        "!wget https://github.com/media2x/realsr-ncnn-vulkan-python/releases/download/1.0.2/realsr-ncnn-vulkan-python-1.0.2-ubuntu1804_3.7.zip\n",
        "!wget https://github.com/media2x/rife-ncnn-vulkan-python/releases/download/1.1.2-2/rife-ncnn-vulkan-python-1.1.2-2-ubuntu1804_3.7.zip\n",
        "!wget https://github.com/media2x/srmd-ncnn-vulkan-python/releases/download/1.0.2-2/srmd-ncnn-vulkan-python-1.0.2-2-ubuntu1804_3.7.zip"
      ],
      "metadata": {
        "id": "gY8bOHtzVl3K"
      },
      "execution_count": null,
      "outputs": []
    },
    {
      "cell_type": "code",
      "source": [
        "!unzip waifu2x-ncnn-vulkan-python-1.0.2rc3-ubuntu1804_3.7.zip\n",
        "!unzip realsr-ncnn-vulkan-python-1.0.2-ubuntu1804_3.7.zip\n",
        "!unzip rife-ncnn-vulkan-python-1.1.2-2-ubuntu1804_3.7.zip\n",
        "!unzip srmd-ncnn-vulkan-python-1.0.2-2-ubuntu1804_3.7.zip"
      ],
      "metadata": {
        "id": "Vl7i7ejFXFf7"
      },
      "execution_count": null,
      "outputs": []
    },
    {
      "cell_type": "code",
      "source": [
        "!pip install *-ncnn-vulkan-python-*/*.whl"
      ],
      "metadata": {
        "id": "XUs0fQQvXUQu"
      },
      "execution_count": null,
      "outputs": []
    },
    {
      "cell_type": "markdown",
      "metadata": {
        "id": "4AZbD6_pdgSR"
      },
      "source": [
        "## setup *-ncnn-vulkan"
      ]
    },
    {
      "cell_type": "code",
      "execution_count": null,
      "metadata": {
        "id": "tJ_iiCOtU3Jj"
      },
      "outputs": [],
      "source": [
        "# upscaling with 4 worker processes\n",
        "!python anime2x-multibackend/anime2x.py -i /content/anime2x-multibackend/test.mp4 --backend waifu2x-ncnn-vulkan -d 0 0 0 0"
      ]
    },
    {
      "cell_type": "code",
      "execution_count": null,
      "metadata": {
        "id": "vXxx7NBkLsCd",
        "pycharm": {
          "name": "#%%"
        }
      },
      "outputs": [],
      "source": [
        "# Or, video frames interpolation with rife-ncnn-vulkan with 4 worker processes\n",
        "!python anime2x-multibackend/anime2x.py -i /content/anime2x-multibackend/test.mp4 -s 1 -f 2 --backend rife-ncnn-vulkan -d 0 0 0 0"
      ]
    }
  ],
  "metadata": {
    "accelerator": "GPU",
    "colab": {
      "collapsed_sections": [],
      "name": "Copy of anime2x.ipynb",
      "provenance": []
    },
    "kernelspec": {
      "display_name": "Python 3",
      "language": "python",
      "name": "python3"
    },
    "language_info": {
      "codemirror_mode": {
        "name": "ipython",
        "version": 3
      },
      "file_extension": ".py",
      "mimetype": "text/x-python",
      "name": "python",
      "nbconvert_exporter": "python",
      "pygments_lexer": "ipython3",
      "version": "3.9.4"
    }
  },
  "nbformat": 4,
  "nbformat_minor": 0
}